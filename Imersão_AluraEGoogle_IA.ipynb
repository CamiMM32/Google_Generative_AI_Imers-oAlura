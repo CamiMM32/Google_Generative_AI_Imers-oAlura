{
  "nbformat": 4,
  "nbformat_minor": 0,
  "metadata": {
    "colab": {
      "provenance": [],
      "authorship_tag": "ABX9TyP6P2Ngn6VGgnH2cjo3Kpyw",
      "include_colab_link": true
    },
    "kernelspec": {
      "name": "python3",
      "display_name": "Python 3"
    },
    "language_info": {
      "name": "python"
    }
  },
  "cells": [
    {
      "cell_type": "markdown",
      "metadata": {
        "id": "view-in-github",
        "colab_type": "text"
      },
      "source": [
        "<a href=\"https://colab.research.google.com/github/CamiMM32/Google_Generative_AI_Imers-oAlura/blob/main/Imers%C3%A3o_AluraEGoogle_IA.ipynb\" target=\"_parent\"><img src=\"https://colab.research.google.com/assets/colab-badge.svg\" alt=\"Open In Colab\"/></a>"
      ]
    },
    {
      "cell_type": "code",
      "execution_count": null,
      "metadata": {
        "id": "d8JkS3QZ3QuQ"
      },
      "outputs": [],
      "source": [
        "!pip install -q -U google-generativeai"
      ]
    },
    {
      "cell_type": "code",
      "source": [
        "# Import the Python SDK\n",
        "import google.generativeai as genai\n",
        "# Used to securely store your API key\n",
        "from google.colab import userdata\n",
        "\n",
        "GOOGLE_API_KEY= 'API_KEY'\n",
        "genai.configure(api_key=GOOGLE_API_KEY)"
      ],
      "metadata": {
        "id": "T7zDeYud3qdB"
      },
      "execution_count": null,
      "outputs": []
    },
    {
      "cell_type": "code",
      "source": [
        "for m in genai.list_models():\n",
        "  if 'generateContent' in m.supported_generation_methods:\n",
        "    print(m.name)"
      ],
      "metadata": {
        "colab": {
          "base_uri": "https://localhost:8080/",
          "height": 139
        },
        "id": "IbEJ128435tW",
        "outputId": "ea87acde-720f-4f0d-a502-7f4404fa24b8"
      },
      "execution_count": null,
      "outputs": [
        {
          "output_type": "stream",
          "name": "stdout",
          "text": [
            "models/gemini-1.0-pro\n",
            "models/gemini-1.0-pro-001\n",
            "models/gemini-1.0-pro-latest\n",
            "models/gemini-1.0-pro-vision-latest\n",
            "models/gemini-1.5-pro-latest\n",
            "models/gemini-pro\n",
            "models/gemini-pro-vision\n"
          ]
        }
      ]
    },
    {
      "cell_type": "code",
      "source": [
        "import google.generativeai.types.safety_types as safety_types\n",
        "\n",
        "print(safety_types._NEW_HARM_CATEGORIES.keys())"
      ],
      "metadata": {
        "colab": {
          "base_uri": "https://localhost:8080/"
        },
        "id": "ivQX5igrHWBd",
        "outputId": "f3d608de-e8cd-467a-fa94-2f5815c97ce2"
      },
      "execution_count": null,
      "outputs": [
        {
          "output_type": "stream",
          "name": "stdout",
          "text": [
            "dict_keys([7, 'harm_category_harassment', 'harassment', 8, 'harm_category_hate_speech', 'hate_speech', 'hate', 9, 'harm_category_sexually_explicit', 'harm_category_sexual', 'sexually_explicit', 'sexual', 'sex', 10, 'harm_category_dangerous_content', 'harm_category_dangerous', 'dangerous', 'danger'])\n"
          ]
        }
      ]
    },
    {
      "cell_type": "code",
      "source": [
        "generation_config = {\n",
        "    'candidate_count': 1,\n",
        "    'temperature': 0.5,\n",
        "}"
      ],
      "metadata": {
        "id": "IvwLRNuC_fVQ"
      },
      "execution_count": null,
      "outputs": []
    },
    {
      "cell_type": "code",
      "source": [
        "model = genai.GenerativeModel('gemini-1.0-pro',\n",
        "                              generation_config=generation_config)"
      ],
      "metadata": {
        "id": "Z0SevllABQru"
      },
      "execution_count": null,
      "outputs": []
    },
    {
      "cell_type": "code",
      "source": [
        "response = model.generate_content(\"Conteúdos sobre IA e Machine Learning. Me dê sugestões, insights e novidades.\")\n",
        "print(response.text)"
      ],
      "metadata": {
        "colab": {
          "base_uri": "https://localhost:8080/",
          "height": 729
        },
        "id": "cHptdX19H00v",
        "outputId": "5f90480d-5e44-4995-bb9c-2f4d549afea3"
      },
      "execution_count": null,
      "outputs": [
        {
          "output_type": "stream",
          "name": "stdout",
          "text": [
            "**Sugestões de Conteúdo**\n",
            "\n",
            "**Artigos e Blogs:**\n",
            "\n",
            "* [MIT Technology Review](https://www.technologyreview.com/topic/artificial-intelligence/)\n",
            "* [Wired](https://www.wired.com/category/artificial-intelligence/)\n",
            "* [The Verge](https://www.theverge.com/tech/artificial-intelligence)\n",
            "* [Gartner](https://www.gartner.com/en/information-technology/insights/artificial-intelligence)\n",
            "* [Forbes](https://www.forbes.com/sites/forbestechcouncil/category/artificial-intelligence/)\n",
            "\n",
            "**Livros:**\n",
            "\n",
            "* \"Inteligência Artificial: Uma Abordagem Moderna\" por Stuart Russell e Peter Norvig\n",
            "* \"Aprendizado de Máquina\" por Tom Mitchell\n",
            "* \"Inteligência Artificial: Um Guia Moderno\" por Michael Wooldridge\n",
            "* \"Aprendizado Profundo para Iniciantes\" por Andrew Trask\n",
            "* \"Processamento de Linguagem Natural com Aprendizado Profundo\" por Ian Goodfellow, Yoshua Bengio e Aaron Courville\n",
            "\n",
            "**Cursos e Certificações:**\n",
            "\n",
            "* [Coursera](https://www.coursera.org/browse/artificial-intelligence)\n",
            "* [edX](https://www.edx.org/learn/artificial-intelligence)\n",
            "* [Udemy](https://www.udemy.com/topic/artificial-intelligence/)\n",
            "* [Google AI](https://ai.google/)\n",
            "* [IBM Watson](https://www.ibm.com/watson/)\n",
            "\n",
            "**Insights**\n",
            "\n",
            "* A IA está impulsionando avanços em vários setores, incluindo saúde, finanças, varejo e transporte.\n",
            "* O aprendizado de máquina é uma subárea da IA que permite que os computadores aprendam com os dados sem serem explicitamente programados.\n",
            "* A IA e o aprendizado de máquina têm o potencial de automatizar tarefas, melhorar a tomada de decisão e criar novas oportunidades.\n",
            "* É crucial abordar questões éticas e sociais relacionadas à IA, como viés, privacidade e desemprego.\n",
            "* O investimento contínuo em pesquisa e desenvolvimento é essencial para o avanço da IA e do aprendizado de máquina.\n",
            "\n",
            "**Novidades**\n",
            "\n",
            "* **Modelos de IA Generativa:** Modelos como GPT-3 e DALL-E 2 estão gerando texto, imagens e código realistas.\n",
            "* **Aprendizado de Reforço:** Os agentes de IA estão aprendendo a tomar decisões ótimas por meio de tentativas e erros.\n",
            "* **Processamento de Linguagem Natural (PNL):** Os modelos de PNL estão melhorando a compreensão da linguagem humana e a geração de texto.\n",
            "* **IA Ética:** Pesquisadores e formuladores de políticas estão desenvolvendo diretrizes para o uso responsável da IA.\n",
            "* **IA na Nuvem:** Os provedores de nuvem estão oferecendo serviços de IA para facilitar o desenvolvimento e a implantação de aplicativos de IA.\n"
          ]
        }
      ]
    },
    {
      "cell_type": "code",
      "source": [
        "chat = model.start_chat(history=[])"
      ],
      "metadata": {
        "id": "bX6EXMmPOpPC"
      },
      "execution_count": null,
      "outputs": []
    },
    {
      "cell_type": "code",
      "source": [
        "prompt = input(\"Esperando prompt: \")\n",
        "\n",
        "while prompt != \"fim\":\n",
        "  response = chat.send_message(prompt)\n",
        "  print(\"Resposta: \", response.text, \"\\n\")\n",
        "  prompt = input(\"Esperando prompt: \")"
      ],
      "metadata": {
        "id": "6PWUkcddO8jQ",
        "colab": {
          "base_uri": "https://localhost:8080/"
        },
        "outputId": "98006aa6-c40c-4c02-dba0-1226de234129"
      },
      "execution_count": 4,
      "outputs": [
        {
          "name": "stdout",
          "output_type": "stream",
          "text": [
            "Esperando prompt: fim\n"
          ]
        }
      ]
    },
    {
      "cell_type": "code",
      "source": [
        "import textwrap\n",
        "from IPython.display import display, Markdown\n",
        "\n",
        "def to_markdown(text):\n",
        "  text = text.replace('*', ' *')\n",
        "  return Markdown(textwrap.indent(text, '> ', predicate=lambda _: True))\n",
        "\n",
        "  for message in chat.history:\n",
        "    display(to_markdown(f'**: {message.parts[0].text}'))\n",
        "    print('---------------------------')"
      ],
      "metadata": {
        "id": "kts4IleJ2fHj"
      },
      "execution_count": null,
      "outputs": []
    }
  ]
}